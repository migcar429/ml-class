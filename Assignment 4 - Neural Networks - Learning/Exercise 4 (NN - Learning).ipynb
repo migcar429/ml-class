{
 "cells": [
  {
   "cell_type": "markdown",
   "metadata": {},
   "source": [
    "# Neural Networks - Learning"
   ]
  },
  {
   "cell_type": "code",
   "execution_count": 71,
   "metadata": {
    "collapsed": false
   },
   "outputs": [],
   "source": [
    "import numpy as np\n",
    "import matplotlib.pyplot as plt\n",
    "from scipy.io import loadmat\n",
    "import pandas as pd\n",
    "from sklearn.preprocessing import label_binarize\n",
    "\n",
    "%matplotlib inline"
   ]
  },
  {
   "cell_type": "code",
   "execution_count": 6,
   "metadata": {
    "collapsed": false
   },
   "outputs": [
    {
     "name": "stdout",
     "output_type": "stream",
     "text": [
      "['y', 'X', '__version__', '__header__', '__globals__'] ['Theta2', '__version__', '__header__', 'Theta1', '__globals__']\n"
     ]
    }
   ],
   "source": [
    "data = loadmat('ex4data1.mat')\n",
    "weights = loadmat('ex4weights.mat')\n",
    "\n",
    "print data.keys(), weights.keys()"
   ]
  },
  {
   "cell_type": "code",
   "execution_count": 121,
   "metadata": {
    "collapsed": false
   },
   "outputs": [
    {
     "name": "stdout",
     "output_type": "stream",
     "text": [
      "(5000, 401) (5000, 1)\n",
      "(25, 401) (10, 26)\n"
     ]
    }
   ],
   "source": [
    "X_raw = data['X']\n",
    "X = np.c_[np.ones((data['X'].shape[0], 1)), data['X']]\n",
    "y = data['y']\n",
    "\n",
    "print X.shape, y.shape\n",
    "\n",
    "theta_1 = weights['Theta1']\n",
    "theta_2 = weights['Theta2']\n",
    "\n",
    "print theta_1.shape, theta_2.shape\n",
    "\n",
    "y_binarized = label_binarize(y, classes=[1,2,3,4,5,6,7,8,9,10])"
   ]
  },
  {
   "cell_type": "markdown",
   "metadata": {},
   "source": [
    "<b> Feedforward to Compute Cost </b>"
   ]
  },
  {
   "cell_type": "code",
   "execution_count": 127,
   "metadata": {
    "collapsed": false
   },
   "outputs": [
    {
     "name": "stdout",
     "output_type": "stream",
     "text": [
      "[0.28762916516131892, 0.33569951212612131, 0.38376985909092365]\n"
     ]
    }
   ],
   "source": [
    "from __future__ import division\n",
    "\n",
    "def sigmoid(z):\n",
    "    return(1 / (1 + np.exp(-z)))\n",
    "\n",
    "# Implemented for 3 layers.\n",
    "def feedforward(X, y_binarized, theta_1, theta_2, reg):\n",
    "    \n",
    "    m = X.shape[0]\n",
    "    \n",
    "    # Forward prop.\n",
    "    a1 = X \n",
    "    z2 = theta_1.dot(a1.T)\n",
    "    a2 = np.c_[np.ones((X.shape[0],1)),sigmoid(z2.T)]\n",
    "    \n",
    "    z3 = theta_2.dot(a2.T) \n",
    "    a3 = sigmoid(z3)\n",
    "    \n",
    "    # Cost function w/o reg term.\n",
    "    J = (1/m) * np.sum(np.log(a3).T * (-y_binarized) - (np.log(1-a3).T * (1-y_binarized)))\n",
    "    \n",
    "    # Add in reg.\n",
    "    reg_term = (reg / (2*m)) * (np.sum(np.square(theta_1[:,1:])) + np.sum(np.square(theta_2[:,1:])) )\n",
    "        \n",
    "    return J+reg_term, a1, z2, a2, z3, a3\n",
    "\n",
    "print [feedforward(X, y_binarized, theta_1, theta_2, reg)[0] for reg in [0,0.5,1]]"
   ]
  },
  {
   "cell_type": "code",
   "execution_count": 134,
   "metadata": {
    "collapsed": false
   },
   "outputs": [
    {
     "name": "stdout",
     "output_type": "stream",
     "text": [
      "(25, 401)\n",
      "(10, 26)\n"
     ]
    }
   ],
   "source": [
    "def gradient_sigmoid(z):\n",
    "    return(sigmoid(z)*(1-sigmoid(z)))\n",
    "\n",
    "# Implement backprop.\n",
    "def compute_gradients(X, y_binarized, theta_1, theta_2, reg):\n",
    "    m = X.shape[0]\n",
    "    J, a1, z2, a2, z3, a3 = feedforward(X, y_binarized,theta_1, theta_2, reg)\n",
    "    \n",
    "    d3 = a3.T - y_binarized\n",
    "    d2 = theta_2[:,1:].T.dot(d3.T) * gradient_sigmoid(z2) # Note the dot product in the middle (in accompanying PDF)\n",
    "    delta_1 = d2.dot(a1)\n",
    "    delta_2 = d3.T.dot(a2)\n",
    "\n",
    "    grad1 = (delta_1/m) + (theta_1*reg)/m\n",
    "    grad2 = (delta_2/m) + (theta_2*reg)/m\n",
    "\n",
    "    return grad1, grad2\n",
    "    \n",
    "for item in compute_gradients(X, y_binarized, theta_1, theta_2, 1):\n",
    "    print item.shape"
   ]
  }
 ],
 "metadata": {
  "kernelspec": {
   "display_name": "Python 2",
   "language": "python",
   "name": "python2"
  },
  "language_info": {
   "codemirror_mode": {
    "name": "ipython",
    "version": 2
   },
   "file_extension": ".py",
   "mimetype": "text/x-python",
   "name": "python",
   "nbconvert_exporter": "python",
   "pygments_lexer": "ipython2",
   "version": "2.7.11"
  }
 },
 "nbformat": 4,
 "nbformat_minor": 0
}
