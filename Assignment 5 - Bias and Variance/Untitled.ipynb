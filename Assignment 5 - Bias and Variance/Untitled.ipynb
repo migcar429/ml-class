{
 "cells": [
  {
   "cell_type": "code",
   "execution_count": 2,
   "metadata": {
    "collapsed": false
   },
   "outputs": [
    {
     "name": "stderr",
     "output_type": "stream",
     "text": [
      "/Users/Mig/anaconda/lib/python2.7/site-packages/matplotlib/font_manager.py:273: UserWarning: Matplotlib is building the font cache using fc-list. This may take a moment.\n",
      "  warnings.warn('Matplotlib is building the font cache using fc-list. This may take a moment.')\n"
     ]
    }
   ],
   "source": [
    "import matplotlib.pyplot as plt\n",
    "import numpy as np\n",
    "from scipy.io import loadmat\n",
    "\n",
    "\n",
    "%matplotlib inline"
   ]
  },
  {
   "cell_type": "markdown",
   "metadata": {},
   "source": [
    "<b> Pulling the Data Out </b>"
   ]
  },
  {
   "cell_type": "code",
   "execution_count": 3,
   "metadata": {
    "collapsed": false
   },
   "outputs": [
    {
     "name": "stdout",
     "output_type": "stream",
     "text": [
      "['ytest', 'yval', '__header__', '__globals__', 'Xtest', 'Xval', 'y', 'X', '__version__']\n"
     ]
    }
   ],
   "source": [
    "data = loadmat('ex5data1.mat')\n",
    "\n",
    "print data.keys() # X,y: training| Xval, yval: CV | Xtest, ytest: test\n",
    "\n",
    "X_train = np.c_[np.ones((data['X'].shape[0], 1)), data['X']]\n",
    "y_train = data['y']\n",
    "X_cv = np.c_[np.ones((data['Xval'].shape[0], 1)), data['Xval']]\n",
    "y_cv = data['yval']\n",
    "X_test = np.c_[np.ones((data['Xtest'].shape[0], 1)), data['Xtest']]\n",
    "y_test = data['ytest']"
   ]
  },
  {
   "cell_type": "markdown",
   "metadata": {},
   "source": [
    "<b> Plotting the Data </b>"
   ]
  },
  {
   "cell_type": "code",
   "execution_count": 4,
   "metadata": {
    "collapsed": false
   },
   "outputs": [
    {
     "data": {
      "text/plain": [
       "<matplotlib.text.Text at 0x1103ffb10>"
      ]
     },
     "execution_count": 4,
     "metadata": {},
     "output_type": "execute_result"
    },
    {
     "data": {
      "image/png": "[encoded data removed]",
      "text/plain": [
       "<matplotlib.figure.Figure at 0x1041bebd0>"
      ]
     },
     "metadata": {},
     "output_type": "display_data"
    }
   ],
   "source": [
    "plt.scatter(X_train[:, 1:], y_train, marker=\"+\")\n",
    "plt.xlabel('Change in water level (x)')\n",
    "plt.ylabel('Water flowing out of the dam (y)')"
   ]
  },
  {
   "cell_type": "markdown",
   "metadata": {},
   "source": [
    "<b> Regularized Linear Regression </b>"
   ]
  },
  {
   "cell_type": "code",
   "execution_count": 5,
   "metadata": {
    "collapsed": false
   },
   "outputs": [
    {
     "data": {
      "text/plain": [
       "304.03485888693092"
      ]
     },
     "execution_count": 5,
     "metadata": {},
     "output_type": "execute_result"
    }
   ],
   "source": [
    "from __future__ import division\n",
    "\n",
    "theta_init = np.array([[1],[1]])\n",
    "\n",
    "def h(X, theta):\n",
    "    values = X.dot(theta.reshape(-1,1)) # 12x2 * 2x1\n",
    "    return values\n",
    "\n",
    "def compute_cost(theta, X, y, reg):\n",
    "    m = X.shape[0]\n",
    "    \n",
    "    J = (1/(2*m)) * np.sum(np.square((h(X, theta)-y))) + (reg/(2*m))*(np.sum(theta.reshape(-1,1)**2))\n",
    "    \n",
    "    return J\n",
    "\n",
    "compute_cost(theta_init, X_train, y_train, 1)"
   ]
  },
  {
   "cell_type": "code",
   "execution_count": 6,
   "metadata": {
    "collapsed": false
   },
   "outputs": [
    {
     "data": {
      "text/plain": [
       "array([ -15.30301567,  598.33407751])"
      ]
     },
     "execution_count": 6,
     "metadata": {},
     "output_type": "execute_result"
    }
   ],
   "source": [
    "def compute_gradient(theta, X, y, reg):\n",
    "    m = X.shape[0]\n",
    "    \n",
    "    gradient_0 = (1/m) * np.sum( (h(X,theta) - y)*X[:,0:1] )\n",
    "    gradient_1 = (1/m) * np.sum( (h(X,theta) - y)*X[:,1:] ) + ((reg/m) * np.sum(theta[:].reshape(-1,1)**2))\n",
    "    \n",
    "    gradient = np.r_[gradient_0, gradient_1]\n",
    "    \n",
    "    return gradient.flatten()\n",
    "\n",
    "compute_gradient(theta_init, X_train, y_train, 1)"
   ]
  },
  {
   "cell_type": "markdown",
   "metadata": {},
   "source": [
    "<b> Optimizing Theta </b>"
   ]
  },
  {
   "cell_type": "code",
   "execution_count": 7,
   "metadata": {
    "collapsed": false
   },
   "outputs": [],
   "source": [
    "from scipy.optimize import minimize\n",
    "\n",
    "def train(X, y, theta, reg):\n",
    "    output = minimize(compute_cost, theta, args=(X, y, reg), method=None, jac=compute_gradient, options={'maxiter':1000})\n",
    "    return output\n",
    "\n",
    "params = train(X_train, y_train, theta_init, 0)['x']"
   ]
  },
  {
   "cell_type": "code",
   "execution_count": 8,
   "metadata": {
    "collapsed": false
   },
   "outputs": [
    {
     "data": {
      "text/plain": [
       "[<matplotlib.lines.Line2D at 0x110e34dd0>]"
      ]
     },
     "execution_count": 8,
     "metadata": {},
     "output_type": "execute_result"
    },
    {
     "data": {
      "image/png": "[encoded data removed]",
      "text/plain": [
       "<matplotlib.figure.Figure at 0x110463b50>"
      ]
     },
     "metadata": {},
     "output_type": "display_data"
    }
   ],
   "source": [
    "plt.scatter(X_train[:, 1:], y_train, marker=\"+\")\n",
    "plt.xlabel('Change in water level (x)')\n",
    "plt.ylabel('Water flowing out of the dam (y)')\n",
    "plt.title('Reg Lin Regression: Params ={0}'.format(params))\n",
    "\n",
    "xx = np.linspace(-50,60,100)\n",
    "xx = np.c_[np.ones((xx.shape[0],1)), xx]\n",
    "yy = xx.dot(params)\n",
    "\n",
    "plt.plot(xx[:,1:], yy, color='r')\n"
   ]
  },
  {
   "cell_type": "code",
   "execution_count": 9,
   "metadata": {
    "collapsed": false
   },
   "outputs": [
    {
     "name": "stdout",
     "output_type": "stream",
     "text": [
      "[[  53.45870143]\n",
      " [ 110.30036611]\n",
      " [  45.01023138]\n",
      " [  48.36891137]\n",
      " [  35.86516475]\n",
      " [  33.8299616 ]\n",
      " [  31.9709858 ]\n",
      " [  30.86244632]\n",
      " [  31.13599796]\n",
      " [  28.93620747]\n",
      " [  29.55143162]\n",
      " [  29.43381813]]\n"
     ]
    },
    {
     "data": {
      "text/plain": [
       "<matplotlib.legend.Legend at 0x110ecf150>"
      ]
     },
     "execution_count": 9,
     "metadata": {},
     "output_type": "execute_result"
    },
    {
     "data": {
      "image/png": "[encoded data removed]",
      "text/plain": [
       "<matplotlib.figure.Figure at 0x1109478d0>"
      ]
     },
     "metadata": {},
     "output_type": "display_data"
    }
   ],
   "source": [
    "def get_errors(X, y, X_cv, y_cv, theta, reg, i):\n",
    "    \n",
    "    train_error, cv_error = np.ones((i,1)), np.ones((i,1))\n",
    "    \n",
    "    for n in range(0,i):\n",
    "        x_inter, y_inter = X[0:n+1,:], y[0:n+1,:]\n",
    "        params = train(x_inter, y_inter, theta, reg)['x']\n",
    "        train_error[n] = compute_cost(params, x_inter, y_inter, reg)\n",
    "        cv_error[n] = compute_cost(params, X_cv, y_cv, reg)\n",
    "\n",
    "    return train_error, cv_error\n",
    "\n",
    "\n",
    "theta_init = np.array([10,10]).reshape(-1,1)\n",
    "\n",
    "params = train(X_train[0:1,:], y_train[0:1,:], theta_init, 0)['x']\n",
    "#print compute_cost(params, X_cv, y_cv, 0)\n",
    "\n",
    "\n",
    "train_error, cv_error = get_errors(X_train, y_train, X_cv, y_cv, theta_init, 0, 12)\n",
    "print cv_error\n",
    "plt.plot(np.arange(1,13), train_error, label=\"train\")\n",
    "plt.plot(np.arange(1,13), cv_error, label=\"cv\")\n",
    "plt.xlabel(\"Training examples\")\n",
    "plt.ylabel(\"Error\")\n",
    "\n",
    "plt.legend()"
   ]
  },
  {
   "cell_type": "code",
   "execution_count": 30,
   "metadata": {
    "collapsed": false
   },
   "outputs": [
    {
     "data": {
      "text/plain": [
       "[<matplotlib.lines.Line2D at 0x1136beb10>]"
      ]
     },
     "execution_count": 30,
     "metadata": {},
     "output_type": "execute_result"
    },
    {
     "data": {
      "image/png": "[encoded data removed]",
      "text/plain": [
       "<matplotlib.figure.Figure at 0x11369f050>"
      ]
     },
     "metadata": {},
     "output_type": "display_data"
    }
   ],
   "source": [
    "from sklearn.preprocessing import PolynomialFeatures\n",
    "from sklearn.linear_model import LinearRegression\n",
    "\n",
    "# Initially tried to train/minimize via functions defined earlier but got random errors so tried sklearn instead.\n",
    "\n",
    "poly = PolynomialFeatures(8)\n",
    "X_poly = poly.fit_transform(X_train[:,1].reshape(-1,1))\n",
    "\n",
    "# Use Ridge() object for regularized with L2 norm\n",
    "regression = LinearRegression()\n",
    "regression.fit(X_poly, y_train)\n",
    "\n",
    "xx = np.linspace(-60,50)\n",
    "\n",
    "# regression.coef_ is 1x9 (fit to the polynomial (8))\n",
    "# Axis = 0 along rows (v), axis = 1 along columns (>)\n",
    "yy = regression.intercept_+ np.sum(regression.coef_ * poly.fit_transform(xx.reshape(-1,1)), axis=1)\n",
    "\n",
    "plt.scatter(X_train[:,1:], y_train)\n",
    "plt.plot(xx, yy)"
   ]
  }
 ],
 "metadata": {
  "kernelspec": {
   "display_name": "Python 2",
   "language": "python",
   "name": "python2"
  },
  "language_info": {
   "codemirror_mode": {
    "name": "ipython",
    "version": 2
   },
   "file_extension": ".py",
   "mimetype": "text/x-python",
   "name": "python",
   "nbconvert_exporter": "python",
   "pygments_lexer": "ipython2",
   "version": "2.7.11"
  }
 },
 "nbformat": 4,
 "nbformat_minor": 0
}
