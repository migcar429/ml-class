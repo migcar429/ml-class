{
 "cells": [
  {
   "cell_type": "markdown",
   "metadata": {},
   "source": [
    "# Neural Networks - Model"
   ]
  },
  {
   "cell_type": "code",
   "execution_count": 1,
   "metadata": {
    "collapsed": false
   },
   "outputs": [
    {
     "name": "stderr",
     "output_type": "stream",
     "text": [
      "/Users/Mig/anaconda/lib/python2.7/site-packages/matplotlib/font_manager.py:273: UserWarning: Matplotlib is building the font cache using fc-list. This may take a moment.\n",
      "  warnings.warn('Matplotlib is building the font cache using fc-list. This may take a moment.')\n"
     ]
    }
   ],
   "source": [
    "import matplotlib.pyplot as plt\n",
    "import numpy as np\n",
    "from scipy.io import loadmat\n",
    "from scipy.optimize import minimize\n",
    "\n",
    "%matplotlib inline"
   ]
  },
  {
   "cell_type": "markdown",
   "metadata": {},
   "source": [
    "<b> Grabbing Data and Plotting as an Image </b>"
   ]
  },
  {
   "cell_type": "code",
   "execution_count": 2,
   "metadata": {
    "collapsed": false
   },
   "outputs": [
    {
     "data": {
      "text/plain": [
       "<matplotlib.image.AxesImage at 0x102bfd4d0>"
      ]
     },
     "execution_count": 2,
     "metadata": {},
     "output_type": "execute_result"
    },
    {
     "data": {
      "image/png": "[encoded data removed]",
      "text/plain": [
       "<matplotlib.figure.Figure at 0x10dc81450>"
      ]
     },
     "metadata": {},
     "output_type": "display_data"
    }
   ],
   "source": [
    "# Loads as a dict object. Main keys are 'X' and 'y'. Also contains metadata in other k-v pairs.\n",
    "data = loadmat('ex3data1.mat')\n",
    "\n",
    "# Loaded as np.arrays. X values are 20x20 matrices 'unrolled' into a 1x400 vector.\n",
    "# Values in the vector are floats representing grayscale density at that pixel location.\n",
    "X, y = data['X'], data['y']\n",
    "\n",
    "# http://stackoverflow.com/questions/14262654/numpy-get-random-set-of-rows-from-2d-array\n",
    "sample = np.random.choice(X.shape[0], 10)\n",
    "\n",
    "'''Test to understand how reshape works with multiple rows.\n",
    "bar = np.array([[1,3,5,7],[2,4,6,8]])\n",
    "bar.reshape(-1,2)'''\n",
    "\n",
    "plt.imshow(X[sample,:].reshape(-1,20).T, cmap='gray')"
   ]
  },
  {
   "cell_type": "markdown",
   "metadata": {},
   "source": [
    "<b> Implementing Regularized Multiclass Logistic Regression with sklearn </b>"
   ]
  },
  {
   "cell_type": "code",
   "execution_count": 20,
   "metadata": {
    "collapsed": false
   },
   "outputs": [
    {
     "data": {
      "text/plain": [
       "LogisticRegression(C=10, class_weight=None, dual=False, fit_intercept=True,\n",
       "          intercept_scaling=1, max_iter=100, multi_class='ovr', n_jobs=1,\n",
       "          penalty='l2', random_state=None, solver='liblinear', tol=0.0001,\n",
       "          verbose=0, warm_start=False)"
      ]
     },
     "execution_count": 20,
     "metadata": {},
     "output_type": "execute_result"
    }
   ],
   "source": [
    "from sklearn.linear_model import LogisticRegression\n",
    "# Penalty = L2 norm, C = inverse of regularization term (i.e. 10 = 0.1).\n",
    "clf = LogisticRegression(penalty='l2', C=10)\n",
    "\n",
    "# Had to be .ravel'd because Anaconda threw an error.\n",
    "clf.fit(X[:,1:],y.ravel())"
   ]
  },
  {
   "cell_type": "code",
   "execution_count": 21,
   "metadata": {
    "collapsed": false
   },
   "outputs": [
    {
     "name": "stdout",
     "output_type": "stream",
     "text": [
      "96.5 %\n"
     ]
    }
   ],
   "source": [
    "predicted = clf.predict(X[:,1:])\n",
    "print np.sum((predicted.reshape(-1,1) == y)/X.shape[0])*100, '%'"
   ]
  },
  {
   "cell_type": "markdown",
   "metadata": {},
   "source": [
    "<b>  </b>"
   ]
  },
  {
   "cell_type": "markdown",
   "metadata": {},
   "source": [
    "<b> Implementing Vectorized Sigmoid, Cost, Gradient and Regularized Logistic Regression w/ Multiclass </b>"
   ]
  },
  {
   "cell_type": "code",
   "execution_count": 5,
   "metadata": {
    "collapsed": false
   },
   "outputs": [
    {
     "name": "stdout",
     "output_type": "stream",
     "text": [
      "(5000, 401)\n"
     ]
    }
   ],
   "source": [
    "# Adding bias.\n",
    "X = np.c_[np.ones((X.shape[0],1)), X]\n",
    "print X.shape"
   ]
  },
  {
   "cell_type": "code",
   "execution_count": 10,
   "metadata": {
    "collapsed": false
   },
   "outputs": [],
   "source": [
    "# Copied functions from assignment 2.\n",
    "\n",
    "def sigmoid(z):\n",
    "    return (1 / (1 + np.exp(-z)))\n",
    "\n",
    "def compute_cost_reg(theta, regterm, X, y):\n",
    "    m = X.shape[0]\n",
    "    h = sigmoid(X.dot(theta))\n",
    "\n",
    "    J = ( (-y.T.dot(np.log(h))) - (1-y.T).dot(np.log(1-h)) )/m + (regterm/(2*m))*(np.sum(np.square(theta[1:])))\n",
    "    \n",
    "    if np.isnan(J[0]):\n",
    "        return(np.inf)\n",
    "    \n",
    "    return J[0]\n",
    "\n",
    "def compute_gradient_reg(theta, regterm, X, y):\n",
    "    m = X.shape[0]\n",
    "    h = sigmoid(X.dot(theta.reshape(-1,1)))\n",
    "    \n",
    "    # x_j, when j = 0.\n",
    "    #gradient_0 = X[:,0:1].T.dot(h-y)\n",
    "    #gradient_1 = X[:,1:].T.dot(h-y) + (regterm/m)*(theta[1:].reshape(-1,1)) # Have to reshape theta to get ,1\n",
    "\n",
    "    #gradient = np.r_[gradient_0, gradient_1]\n",
    "    \n",
    "    # Earlier code didn't work, tried someone else's implementation and it worked for some reason.\n",
    "    # ASK SOMEONE ABOUT THIS.\n",
    "    gradient = (1/m)*X.T.dot(h-y) + (regterm/m)*np.r_[[[0]],theta[1:].reshape(-1,1)]\n",
    "\n",
    "    return gradient.flatten()"
   ]
  },
  {
   "cell_type": "markdown",
   "metadata": {},
   "source": [
    "<b> Vectorized OneVsRest </b>"
   ]
  },
  {
   "cell_type": "code",
   "execution_count": 11,
   "metadata": {
    "collapsed": false
   },
   "outputs": [
    {
     "name": "stderr",
     "output_type": "stream",
     "text": [
      "/Users/Mig/anaconda/lib/python2.7/site-packages/ipykernel/__main__.py:10: RuntimeWarning: divide by zero encountered in log\n"
     ]
    },
    {
     "name": "stdout",
     "output_type": "stream",
     "text": [
      "(10, 401)\n"
     ]
    }
   ],
   "source": [
    "theta = np.ones((X.shape[1])).reshape(-1, 1)\n",
    "\n",
    "def one_vs_rest(X, y, num_labels, theta, regterm):\n",
    "    all_theta = np.zeros((num_labels, X.shape[1]))\n",
    "    \n",
    "    for i in range(1, num_labels+1):\n",
    "        # Logical arrays work in Python, too. Multiply by 1 because it fails otherwise. True*1 = 1\n",
    "        res = minimize(compute_cost_reg, theta, args=(regterm, X, (y==i)*1), jac=compute_gradient_reg, options={'maxiter':100})\n",
    "        all_theta[i-1] = res.x\n",
    "        \n",
    "        # Tried if/else with hstack and concatenate but kept returning \n",
    "        # ValueError: all input arrays must have same # of dimensions.=\n",
    "        \n",
    "    return all_theta\n",
    "\n",
    "opt_thetas = one_vs_rest(X, y, 10, theta, 0.5)\n",
    "\n",
    "# 10 rows of 401 params, 1 row for each classifier.\n",
    "print opt_thetas.shape"
   ]
  },
  {
   "cell_type": "code",
   "execution_count": 12,
   "metadata": {
    "collapsed": false
   },
   "outputs": [
    {
     "name": "stdout",
     "output_type": "stream",
     "text": [
      "94.56 %\n"
     ]
    }
   ],
   "source": [
    "def one_vs_rest_predict(X, theta):\n",
    "    # Output should be 5000 x 10. For each training ex, multiply that ex by the params from \n",
    "    # all_theta for each learned classifier.\n",
    "    predicted = sigmoid(X.dot(theta.T))\n",
    "    \n",
    "    return np.argmax(predicted, axis=1)+1\n",
    "\n",
    "predictions = one_vs_rest_predict(X, opt_thetas)\n",
    "\n",
    "from __future__ import division\n",
    "\n",
    "print (np.sum(predictions.reshape(-1,1)==y)/X.shape[0])*100, '%'"
   ]
  },
  {
   "cell_type": "markdown",
   "metadata": {},
   "source": [
    "<b> Neural Network Forward Prop </b>"
   ]
  },
  {
   "cell_type": "code",
   "execution_count": 26,
   "metadata": {
    "collapsed": false
   },
   "outputs": [
    {
     "name": "stdout",
     "output_type": "stream",
     "text": [
      "(5000, 401) (25, 401) (10, 26)\n",
      "[10 10 10 ...,  9  9  9]\n"
     ]
    }
   ],
   "source": [
    "# Unpack weights.\n",
    "weights = loadmat('ex3weights.mat')\n",
    "theta_1, theta_2 = weights['Theta1'], weights['Theta2'] \n",
    "\n",
    "def predict(theta_1, theta_2, X):\n",
    "    z2 = theta_1.dot(X.T)\n",
    "    a2 = np.c_[np.ones((data['X'].shape[0],1)), sigmoid(z2).T] # 5000x1 c._ 5000x25\n",
    "    \n",
    "    z3 = theta_2.dot(a2.T) # 10x26 * 26x5000\n",
    "    \n",
    "    a3 = sigmoid(z3.T)\n",
    "        \n",
    "    return(np.argmax(a3, axis=1)+1)\n",
    "\n",
    "print X.shape, theta_1.shape, theta_2.shape\n",
    "print predict(theta_1, theta_2, X)"
   ]
  }
 ],
 "metadata": {
  "kernelspec": {
   "display_name": "Python 2",
   "language": "python",
   "name": "python2"
  },
  "language_info": {
   "codemirror_mode": {
    "name": "ipython",
    "version": 2
   },
   "file_extension": ".py",
   "mimetype": "text/x-python",
   "name": "python",
   "nbconvert_exporter": "python",
   "pygments_lexer": "ipython2",
   "version": "2.7.11"
  }
 },
 "nbformat": 4,
 "nbformat_minor": 0
}
